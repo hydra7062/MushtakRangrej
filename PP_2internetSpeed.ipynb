{
  "nbformat": 4,
  "nbformat_minor": 0,
  "metadata": {
    "colab": {
      "provenance": [],
      "authorship_tag": "ABX9TyMT6sU9d6Xfe6lCcMdPfGEH",
      "include_colab_link": true
    },
    "kernelspec": {
      "name": "python3",
      "display_name": "Python 3"
    },
    "language_info": {
      "name": "python"
    }
  },
  "cells": [
    {
      "cell_type": "markdown",
      "metadata": {
        "id": "view-in-github",
        "colab_type": "text"
      },
      "source": [
        "<a href=\"https://colab.research.google.com/github/hydra7062/MushtakRangrej/blob/main/PP_2internetSpeed.ipynb\" target=\"_parent\"><img src=\"https://colab.research.google.com/assets/colab-badge.svg\" alt=\"Open In Colab\"/></a>"
      ]
    },
    {
      "cell_type": "code",
      "execution_count": 7,
      "metadata": {
        "colab": {
          "base_uri": "https://localhost:8080/"
        },
        "id": "GxsedOjLoFts",
        "outputId": "68375666-bb00-4a0a-8166-ce857b574821"
      },
      "outputs": [
        {
          "output_type": "stream",
          "name": "stdout",
          "text": [
            "Requirement already satisfied: speedtest-cli in /usr/local/lib/python3.10/dist-packages (2.1.3)\n"
          ]
        }
      ],
      "source": [
        "pip install speedtest-cli"
      ]
    },
    {
      "cell_type": "code",
      "source": [
        "### CREATE VIRTUAL DISPLAY ###\n",
        "!apt-get install -y xvfb # Install X Virtual Frame Buffer\n",
        "import os\n",
        "os.system('Xvfb :1 -screen 0 1600x1200x16  &')    # create virtual display with size 1600x1200 and 16 bit color. Color can be changed to 24 or 8\n",
        "os.environ['DISPLAY']=':1.0'    # tell X clients to use our virtual DISPLAY :1.0."
      ],
      "metadata": {
        "colab": {
          "base_uri": "https://localhost:8080/"
        },
        "id": "EqM6O_yvq2-P",
        "outputId": "11bbcb59-fd54-4a66-ab3d-79d53b8e2e2d"
      },
      "execution_count": 15,
      "outputs": [
        {
          "output_type": "stream",
          "name": "stdout",
          "text": [
            "Reading package lists... Done\n",
            "Building dependency tree... Done\n",
            "Reading state information... Done\n",
            "xvfb is already the newest version (2:21.1.4-2ubuntu1.7~22.04.1).\n",
            "0 upgraded, 0 newly installed, 0 to remove and 8 not upgraded.\n"
          ]
        }
      ]
    },
    {
      "cell_type": "code",
      "source": [
        "from tkinter import *\n",
        "\n",
        "import speedtest"
      ],
      "metadata": {
        "id": "qCbTqejfqHrA"
      },
      "execution_count": 16,
      "outputs": []
    },
    {
      "cell_type": "code",
      "source": [
        "import speedtest\n",
        "print(dir(speedtest))"
      ],
      "metadata": {
        "colab": {
          "base_uri": "https://localhost:8080/"
        },
        "id": "ZeW7PHoRoT15",
        "outputId": "221c7028-9bc3-4bcd-b163-27266eb3a3a9"
      },
      "execution_count": 10,
      "outputs": [
        {
          "output_type": "stream",
          "name": "stdout",
          "text": [
            "['ARG_SUPPRESS', 'AbstractHTTPHandler', 'ArgParser', 'BadStatusLine', 'BytesIO', 'CERT_ERROR', 'ConfigRetrievalError', 'DEBUG', 'ET', 'FakeShutdownEvent', 'FakeSocket', 'FileIO', 'GZIP_BASE', 'GzipDecodedResponse', 'HTTPConnection', 'HTTPDefaultErrorHandler', 'HTTPDownloader', 'HTTPError', 'HTTPErrorProcessor', 'HTTPRedirectHandler', 'HTTPSConnection', 'HTTPUploader', 'HTTPUploaderData', 'HTTP_ERRORS', 'InvalidServerIDType', 'InvalidSpeedtestMiniServer', 'NoMatchedServers', 'OpenerDirector', 'PARSER_TYPE_FLOAT', 'PARSER_TYPE_INT', 'PARSER_TYPE_STR', 'PY25PLUS', 'PY26PLUS', 'PY32PLUS', 'ProxyHandler', 'Queue', 'Request', 'ServersRetrievalError', 'ShareResultsConnectFailure', 'ShareResultsSubmitFailure', 'Speedtest', 'SpeedtestBestServerFailure', 'SpeedtestCLIError', 'SpeedtestConfigError', 'SpeedtestException', 'SpeedtestHTTPConnection', 'SpeedtestHTTPError', 'SpeedtestHTTPHandler', 'SpeedtestHTTPSConnection', 'SpeedtestHTTPSHandler', 'SpeedtestMiniConnectFailure', 'SpeedtestMissingBestServer', 'SpeedtestResults', 'SpeedtestServersError', 'SpeedtestUploadTimeout', 'StringIO', 'TextIOWrapper', 'URLError', '_GLOBAL_DEFAULT_TIMEOUT', '_Py3Utf8Output', '__builtins__', '__cached__', '__doc__', '__file__', '__loader__', '__name__', '__package__', '__spec__', '__version__', '_build_connection', '_py3_print', '_py3_utf8_stderr', '_py3_utf8_stdout', 'build_opener', 'build_request', 'build_user_agent', 'builtins', 'catch_request', 'create_connection', 'csv', 'csv_header', 'ctrl_c', 'datetime', 'distance', 'do_nothing', 'errno', 'etree_iter', 'get_attributes_by_tag_name', 'get_exception', 'get_response_stream', 'gzip', 'json', 'main', 'math', 'md5', 'os', 'parse_args', 'parse_qs', 'platform', 'print_', 'print_dots', 'printer', 're', 'shell', 'signal', 'socket', 'ssl', 'sys', 'thread_is_alive', 'threading', 'timeit', 'to_utf8', 'urlopen', 'urlparse', 'validate_optional_args', 'version', 'xml']\n"
          ]
        }
      ]
    },
    {
      "cell_type": "code",
      "source": [
        "sp = Tk()\n",
        "sp.title('Internet SpeedTest')\n",
        "sp.geometry(\"500x500\")\n",
        "sp.config(bg = 'blue')\n",
        "\n",
        "lab = Label(sp,text = 'Internet SpeedTest', font= ('Time New Roman', 20, 'bold'), bg = 'blue')\n",
        "\n",
        "lab.place(x = 55, y = 40, )\n",
        "\n",
        "\n",
        "\n",
        "\n",
        "\n",
        "sp.mainloop()\n",
        "\n"
      ],
      "metadata": {
        "id": "qkBpcS_8pp4W"
      },
      "execution_count": null,
      "outputs": []
    },
    {
      "cell_type": "code",
      "source": [],
      "metadata": {
        "id": "6SrSwWuTyOF1"
      },
      "execution_count": null,
      "outputs": []
    },
    {
      "cell_type": "code",
      "source": [],
      "metadata": {
        "id": "ar07BMdnqU2B"
      },
      "execution_count": null,
      "outputs": []
    }
  ]
}