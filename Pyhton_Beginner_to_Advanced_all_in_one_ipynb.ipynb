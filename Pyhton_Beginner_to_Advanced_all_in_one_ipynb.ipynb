{
  "nbformat": 4,
  "nbformat_minor": 0,
  "metadata": {
    "colab": {
      "provenance": [],
      "authorship_tag": "ABX9TyPx9r1MEliUcg4nsiRZ0zb+",
      "include_colab_link": true
    },
    "kernelspec": {
      "name": "python3",
      "display_name": "Python 3"
    },
    "language_info": {
      "name": "python"
    }
  },
  "cells": [
    {
      "cell_type": "markdown",
      "metadata": {
        "id": "view-in-github",
        "colab_type": "text"
      },
      "source": [
        "<a href=\"https://colab.research.google.com/github/hydra7062/MushtakRangrej/blob/main/Pyhton_Beginner_to_Advanced_all_in_one_ipynb.ipynb\" target=\"_parent\"><img src=\"https://colab.research.google.com/assets/colab-badge.svg\" alt=\"Open In Colab\"/></a>"
      ]
    },
    {
      "cell_type": "code",
      "execution_count": 1,
      "metadata": {
        "colab": {
          "base_uri": "https://localhost:8080/"
        },
        "id": "-MwMXw5lHVQr",
        "outputId": "56631fd1-9175-4131-82bd-79f10e9131d0"
      },
      "outputs": [
        {
          "output_type": "stream",
          "name": "stdout",
          "text": [
            "Hello There Now i started a Python Session Beginner to Advanced \n"
          ]
        }
      ],
      "source": [
        "print('Hello There Now i started a Python Session Beginner to Advanced ')"
      ]
    },
    {
      "cell_type": "markdown",
      "source": [
        "# ** What is Python?\n",
        "Python is a popular programming language. It was created by Guido van Rossum, and released in 1991.\n",
        "\n",
        "# It is used for:\n",
        "\n",
        "web development (server-side),\n",
        "software development,\n",
        "mathematics,\n",
        "system scripting.\n",
        "What can Python do?\n",
        "Python can be used on a server to create web applications.\n",
        "Python can be used alongside software to create workflows.\n",
        "Python can connect to database systems. It can also read and modify files.\n",
        "Python can be used to handle big data and perform complex mathematics.\n",
        "Python can be used for rapid prototyping, or for production-ready software development.**"
      ],
      "metadata": {
        "id": "-ja5_bR5IX9V"
      }
    }
  ]
}